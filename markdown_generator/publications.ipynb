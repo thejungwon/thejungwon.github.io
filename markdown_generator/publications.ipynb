{
 "cells": [
  {
   "cell_type": "markdown",
   "metadata": {
    "deletable": true,
    "editable": true
   },
   "source": [
    "# Publications markdown generator for academicpages\n",
    "\n",
    "Takes a TSV of publications with metadata and converts them for use with [academicpages.github.io](academicpages.github.io). This is an interactive Jupyter notebook ([see more info here](http://jupyter-notebook-beginner-guide.readthedocs.io/en/latest/what_is_jupyter.html)). The core python code is also in `publications.py`. Run either from the `markdown_generator` folder after replacing `publications.tsv` with one containing your data.\n",
    "\n",
    "TODO: Make this work with BibTex and other databases of citations, rather than Stuart's non-standard TSV format and citation style.\n"
   ]
  },
  {
   "cell_type": "markdown",
   "metadata": {},
   "source": [
    "## Data format\n",
    "\n",
    "The TSV needs to have the following columns: pub_date, title, venue, excerpt, citation, site_url, and paper_url, with a header at the top. \n",
    "\n",
    "- `excerpt` and `paper_url` can be blank, but the others must have values. \n",
    "- `pub_date` must be formatted as YYYY-MM-DD.\n",
    "- `url_slug` will be the descriptive part of the .md file and the permalink URL for the page about the paper. The .md file will be `YYYY-MM-DD-[url_slug].md` and the permalink will be `https://[yourdomain]/publications/YYYY-MM-DD-[url_slug]`\n",
    "\n",
    "This is how the raw file looks (it doesn't look pretty, use a spreadsheet or other program to edit and create)."
   ]
  },
  {
   "cell_type": "code",
   "execution_count": 17,
   "metadata": {
    "collapsed": false
   },
   "outputs": [
    {
     "name": "stdout",
     "output_type": "stream",
     "text": [
      "pub_date\ttitle\tvenue\texcerpt\tcitation\turl_slug\tpaper_url\tslides_url\n",
      "2023-12-04\tFlexible and secure code deployment in federated learning using large language models: Prompt engineering to enhance malicious code detection\t2023 IEEE International Conference on Cloud Computing Technology and Science (CloudCom)\t\tSeo, Jungwon, Nan Zhang, and Chunming Rong. \"Flexible and secure code deployment in federated learning using large language models: Prompt engineering to enhance malicious code detection.\" In 2023 IEEE International Conference on Cloud Computing Technology and Science (CloudCom), pp. 341-349. IEEE, 2023.\tseo2023flexible\thttps://ieeexplore.ieee.org/abstract/document/10475813\t\n",
      "2024-06-10\tFederated AI Chat System: Tackling Tacit Knowledge Management\t85th EAGE Annual Conference & Exhibition (including the Workshop Programme)\t\tSeo, J., B. Cui, and C. Rong. \"Federated AI Chat System: Tackling Tacit Knowledge Management.\" In 85th EAGE Annual Conference & Exhibition (including the Workshop Programme), vol. 2024, no. 1, pp. 1-5. European Association of Geoscientists & Engineers, 2024.\n",
      "\tseo2024federated\thttps://doi.org/10.3997/2214-4609.202410298\t\n",
      "2024-11-24\tUnderstanding Federated Learning from IID to Non-IID dataset: An Experimental Study\t2024 Norsk IKT-Konferanse for Forskning Og Utdanning\t\tSeo, Jungwon, Ferhat Ozgur Catak, and Chunming Rong. \"Understanding Federated Learning from IID to Non-IID dataset: An Experimental Study.\" In Norsk IKT-konferanse for forskning og utdanning, no. 1. 2024.\tseo2025understanding\thttps://arxiv.org/abs/2502.00182\t\n",
      "2024-12-13\tProxyLLM: LLM-Driven Framework for Customer Support Through Text-Style Transfer\tECMLPKDD 2025 (accepted)\t\tJo, Sehyeong, and Jungwon Seo. \"ProxyLLM: LLM-Driven Framework for Customer Support Through Text-Style Transfer.\" arXiv preprint arXiv:2412.09916 (2024).\tjo2024proxyllm\thttps://arxiv.org/abs/2412.09916\t\n",
      "2025-03-21\tFederated Large Domain Model System\tBlockchain: Research and Applications\t\tRong, Chunming, Jungwon Seo, Zihan Zhao, Ferhat Ozgur Catak, Jiahui Geng, and Martin Gilje Jaatun. “Federated Large Domain Model System.” Blockchain: Research and Applications 6, no. 3 (2025): 100277. https://doi.org/10.1016/j.bcra.2025.100277.\tRONG2025100277\thttps://doi.org/10.1016/j.bcra.2025.100277\t"
     ]
    }
   ],
   "source": [
    "!cat publications.tsv"
   ]
  },
  {
   "cell_type": "markdown",
   "metadata": {},
   "source": [
    "## Import pandas\n",
    "\n",
    "We are using the very handy pandas library for dataframes."
   ]
  },
  {
   "cell_type": "code",
   "execution_count": 8,
   "metadata": {},
   "outputs": [
    {
     "name": "stdout",
     "output_type": "stream",
     "text": [
      "Requirement already satisfied: pytz in /Users/jungwons/.pyenv/versions/3.9.4/lib/python3.9/site-packages (2023.3)\n",
      "\n",
      "\u001b[1m[\u001b[0m\u001b[34;49mnotice\u001b[0m\u001b[1;39;49m]\u001b[0m\u001b[39;49m A new release of pip is available: \u001b[0m\u001b[31;49m25.1.1\u001b[0m\u001b[39;49m -> \u001b[0m\u001b[32;49m25.2\u001b[0m\n",
      "\u001b[1m[\u001b[0m\u001b[34;49mnotice\u001b[0m\u001b[1;39;49m]\u001b[0m\u001b[39;49m To update, run: \u001b[0m\u001b[32;49mpip install --upgrade pip\u001b[0m\n"
     ]
    }
   ],
   "source": [
    "!pip install pytz"
   ]
  },
  {
   "cell_type": "code",
   "execution_count": 18,
   "metadata": {
    "collapsed": true,
    "deletable": true,
    "editable": true
   },
   "outputs": [],
   "source": [
    "import pandas as pd"
   ]
  },
  {
   "cell_type": "markdown",
   "metadata": {},
   "source": [
    "## Import TSV\n",
    "\n",
    "Pandas makes this easy with the read_csv function. We are using a TSV, so we specify the separator as a tab, or `\\t`.\n",
    "\n",
    "I found it important to put this data in a tab-separated values format, because there are a lot of commas in this kind of data and comma-separated values can get messed up. However, you can modify the import statement, as pandas also has read_excel(), read_json(), and others."
   ]
  },
  {
   "cell_type": "code",
   "execution_count": 20,
   "metadata": {
    "collapsed": false,
    "deletable": true,
    "editable": true
   },
   "outputs": [
    {
     "data": {
      "text/html": [
       "<div>\n",
       "<style scoped>\n",
       "    .dataframe tbody tr th:only-of-type {\n",
       "        vertical-align: middle;\n",
       "    }\n",
       "\n",
       "    .dataframe tbody tr th {\n",
       "        vertical-align: top;\n",
       "    }\n",
       "\n",
       "    .dataframe thead th {\n",
       "        text-align: right;\n",
       "    }\n",
       "</style>\n",
       "<table border=\"1\" class=\"dataframe\">\n",
       "  <thead>\n",
       "    <tr style=\"text-align: right;\">\n",
       "      <th></th>\n",
       "      <th>pub_date</th>\n",
       "      <th>title</th>\n",
       "      <th>venue</th>\n",
       "      <th>excerpt</th>\n",
       "      <th>citation</th>\n",
       "      <th>url_slug</th>\n",
       "      <th>paper_url</th>\n",
       "      <th>slides_url</th>\n",
       "    </tr>\n",
       "  </thead>\n",
       "  <tbody>\n",
       "    <tr>\n",
       "      <th>0</th>\n",
       "      <td>2023-12-04</td>\n",
       "      <td>Flexible and secure code deployment in federat...</td>\n",
       "      <td>2023 IEEE International Conference on Cloud Co...</td>\n",
       "      <td>NaN</td>\n",
       "      <td>Seo, Jungwon, Nan Zhang, and Chunming Rong. \"F...</td>\n",
       "      <td>seo2023flexible</td>\n",
       "      <td>https://ieeexplore.ieee.org/abstract/document/...</td>\n",
       "      <td>NaN</td>\n",
       "    </tr>\n",
       "    <tr>\n",
       "      <th>1</th>\n",
       "      <td>2024-06-10</td>\n",
       "      <td>Federated AI Chat System: Tackling Tacit Knowl...</td>\n",
       "      <td>85th EAGE Annual Conference &amp; Exhibition (incl...</td>\n",
       "      <td>NaN</td>\n",
       "      <td>Seo, J., B. Cui, and C. Rong. \"Federated AI Ch...</td>\n",
       "      <td>seo2024federated</td>\n",
       "      <td>https://doi.org/10.3997/2214-4609.202410298</td>\n",
       "      <td>NaN</td>\n",
       "    </tr>\n",
       "    <tr>\n",
       "      <th>2</th>\n",
       "      <td>2024-11-24</td>\n",
       "      <td>Understanding Federated Learning from IID to N...</td>\n",
       "      <td>2024 Norsk IKT-Konferanse for Forskning Og Utd...</td>\n",
       "      <td>NaN</td>\n",
       "      <td>Seo, Jungwon, Ferhat Ozgur Catak, and Chunming...</td>\n",
       "      <td>seo2025understanding</td>\n",
       "      <td>https://arxiv.org/abs/2502.00182</td>\n",
       "      <td>NaN</td>\n",
       "    </tr>\n",
       "    <tr>\n",
       "      <th>3</th>\n",
       "      <td>2024-12-13</td>\n",
       "      <td>ProxyLLM: LLM-Driven Framework for Customer Su...</td>\n",
       "      <td>ECMLPKDD 2025 (accepted)</td>\n",
       "      <td>NaN</td>\n",
       "      <td>Jo, Sehyeong, and Jungwon Seo. \"ProxyLLM: LLM-...</td>\n",
       "      <td>jo2024proxyllm</td>\n",
       "      <td>https://arxiv.org/abs/2412.09916</td>\n",
       "      <td>NaN</td>\n",
       "    </tr>\n",
       "    <tr>\n",
       "      <th>4</th>\n",
       "      <td>2025-03-21</td>\n",
       "      <td>Federated Large Domain Model System</td>\n",
       "      <td>Blockchain: Research and Applications</td>\n",
       "      <td>NaN</td>\n",
       "      <td>Rong, Chunming, Jungwon Seo, Zihan Zhao, Ferha...</td>\n",
       "      <td>RONG2025100277</td>\n",
       "      <td>https://doi.org/10.1016/j.bcra.2025.100277</td>\n",
       "      <td>NaN</td>\n",
       "    </tr>\n",
       "  </tbody>\n",
       "</table>\n",
       "</div>"
      ],
      "text/plain": [
       "     pub_date                                              title  \\\n",
       "0  2023-12-04  Flexible and secure code deployment in federat...   \n",
       "1  2024-06-10  Federated AI Chat System: Tackling Tacit Knowl...   \n",
       "2  2024-11-24  Understanding Federated Learning from IID to N...   \n",
       "3  2024-12-13  ProxyLLM: LLM-Driven Framework for Customer Su...   \n",
       "4  2025-03-21                Federated Large Domain Model System   \n",
       "\n",
       "                                               venue  excerpt  \\\n",
       "0  2023 IEEE International Conference on Cloud Co...      NaN   \n",
       "1  85th EAGE Annual Conference & Exhibition (incl...      NaN   \n",
       "2  2024 Norsk IKT-Konferanse for Forskning Og Utd...      NaN   \n",
       "3                           ECMLPKDD 2025 (accepted)      NaN   \n",
       "4              Blockchain: Research and Applications      NaN   \n",
       "\n",
       "                                            citation              url_slug  \\\n",
       "0  Seo, Jungwon, Nan Zhang, and Chunming Rong. \"F...       seo2023flexible   \n",
       "1  Seo, J., B. Cui, and C. Rong. \"Federated AI Ch...      seo2024federated   \n",
       "2  Seo, Jungwon, Ferhat Ozgur Catak, and Chunming...  seo2025understanding   \n",
       "3  Jo, Sehyeong, and Jungwon Seo. \"ProxyLLM: LLM-...        jo2024proxyllm   \n",
       "4  Rong, Chunming, Jungwon Seo, Zihan Zhao, Ferha...        RONG2025100277   \n",
       "\n",
       "                                           paper_url  slides_url  \n",
       "0  https://ieeexplore.ieee.org/abstract/document/...         NaN  \n",
       "1        https://doi.org/10.3997/2214-4609.202410298         NaN  \n",
       "2                   https://arxiv.org/abs/2502.00182         NaN  \n",
       "3                   https://arxiv.org/abs/2412.09916         NaN  \n",
       "4         https://doi.org/10.1016/j.bcra.2025.100277         NaN  "
      ]
     },
     "execution_count": 20,
     "metadata": {},
     "output_type": "execute_result"
    }
   ],
   "source": [
    "publications = pd.read_csv(\"publications.tsv\", sep=\"\\t\", header=0)\n",
    "publications\n"
   ]
  },
  {
   "cell_type": "markdown",
   "metadata": {},
   "source": [
    "## Escape special characters\n",
    "\n",
    "YAML is very picky about how it takes a valid string, so we are replacing single and double quotes (and ampersands) with their HTML encoded equivilents. This makes them look not so readable in raw format, but they are parsed and rendered nicely."
   ]
  },
  {
   "cell_type": "code",
   "execution_count": 21,
   "metadata": {
    "collapsed": true,
    "deletable": true,
    "editable": true
   },
   "outputs": [],
   "source": [
    "html_escape_table = {\n",
    "    \"&\": \"&amp;\",\n",
    "    '\"': \"&quot;\",\n",
    "    \"'\": \"&apos;\"\n",
    "    }\n",
    "\n",
    "def html_escape(text):\n",
    "    \"\"\"Produce entities within text.\"\"\"\n",
    "    return \"\".join(html_escape_table.get(c,c) for c in text)"
   ]
  },
  {
   "cell_type": "markdown",
   "metadata": {},
   "source": [
    "## Creating the markdown files\n",
    "\n",
    "This is where the heavy lifting is done. This loops through all the rows in the TSV dataframe, then starts to concatentate a big string (```md```) that contains the markdown for each type. It does the YAML metadata first, then does the description for the individual page."
   ]
  },
  {
   "cell_type": "code",
   "execution_count": 22,
   "metadata": {
    "collapsed": false,
    "deletable": true,
    "editable": true
   },
   "outputs": [],
   "source": [
    "import os\n",
    "for row, item in publications.iterrows():\n",
    "    \n",
    "    md_filename = str(item.pub_date) + \"-\" + item.url_slug + \".md\"\n",
    "    html_filename = str(item.pub_date) + \"-\" + item.url_slug\n",
    "    year = item.pub_date[:4]\n",
    "    \n",
    "    ## YAML variables\n",
    "    \n",
    "    md = \"---\\ntitle: \\\"\"   + item.title + '\"\\n'\n",
    "    \n",
    "    md += \"\"\"collection: publications\"\"\"\n",
    "    \n",
    "    md += \"\"\"\\npermalink: /publication/\"\"\" + html_filename\n",
    "    \n",
    "    if len(str(item.excerpt)) > 5:\n",
    "        md += \"\\nexcerpt: '\" + html_escape(item.excerpt) + \"'\"\n",
    "    \n",
    "    md += \"\\ndate: \" + str(item.pub_date) \n",
    "    \n",
    "    md += \"\\nvenue: '\" + html_escape(item.venue) + \"'\"\n",
    "    \n",
    "    if len(str(item.slides_url)) > 5:\n",
    "        md += \"\\nslidesurl: '\" + item.slides_url + \"'\"\n",
    "\n",
    "    if len(str(item.paper_url)) > 5:\n",
    "        md += \"\\npaperurl: '\" + item.paper_url + \"'\"\n",
    "    \n",
    "    md += \"\\ncitation: '\" + html_escape(item.citation) + \"'\"\n",
    "    \n",
    "    md += \"\\n---\"\n",
    "    \n",
    "    ## Markdown description for individual page\n",
    "        \n",
    "    if len(str(item.excerpt)) > 5:\n",
    "        md += \"\\n\" + html_escape(item.excerpt) + \"\\n\"\n",
    "\n",
    "    if len(str(item.slides_url)) > 5:\n",
    "        md += \"\\n[Download slides here](\" + item.slides_url + \")\\n\" \n",
    "\n",
    "    if len(str(item.paper_url)) > 5:\n",
    "        md += \"\\n[Download paper here](\" + item.paper_url + \")\\n\" \n",
    "        \n",
    "    md += \"\\nRecommended citation: \" + item.citation\n",
    "    \n",
    "    md_filename = os.path.basename(md_filename)\n",
    "       \n",
    "    with open(\"../_publications/\" + md_filename, 'w') as f:\n",
    "        f.write(md)"
   ]
  },
  {
   "cell_type": "markdown",
   "metadata": {},
   "source": [
    "These files are in the publications directory, one directory below where we're working from."
   ]
  },
  {
   "cell_type": "code",
   "execution_count": 23,
   "metadata": {
    "collapsed": false,
    "deletable": true,
    "editable": true
   },
   "outputs": [
    {
     "name": "stdout",
     "output_type": "stream",
     "text": [
      "2023-12-04-prompt-engineering-malicious-code-detection.md\n",
      "2023-12-04-seo2023flexible.md\n",
      "2024-02-17-paper-title-number-4.md\n",
      "2024-06-10-seo2024federated.md\n",
      "2024-11-24-seo2025understanding.md\n",
      "2024-12-13-jo2024proxyllm.md\n",
      "2025-03-21-RONG2025100277.md\n",
      "2025-06-08-paper-title-number-5.md\n"
     ]
    }
   ],
   "source": [
    "!ls ../_publications/"
   ]
  },
  {
   "cell_type": "code",
   "execution_count": 16,
   "metadata": {
    "collapsed": false,
    "deletable": true,
    "editable": true
   },
   "outputs": [
    {
     "name": "stdout",
     "output_type": "stream",
     "text": [
      "---\n",
      "title: \"Paper Title Number 1\"\n",
      "collection: publications\n",
      "permalink: /publication/2009-10-01-paper-title-number-1\n",
      "excerpt: 'This paper is about the number 1. The number 2 is left for future work.'\n",
      "date: 2009-10-01\n",
      "venue: 'Journal 1'\n",
      "slidesurl: 'http://academicpages.github.io/files/slides1.pdf'\n",
      "paperurl: 'http://academicpages.github.io/files/paper1.pdf'\n",
      "citation: 'Your Name, You. (2009). &quot;Paper Title Number 1.&quot; <i>Journal 1</i>. 1(1).'\n",
      "---\n",
      "This paper is about the number 1. The number 2 is left for future work.\n",
      "\n",
      "[Download slides here](http://academicpages.github.io/files/slides1.pdf)\n",
      "\n",
      "[Download paper here](http://academicpages.github.io/files/paper1.pdf)\n",
      "\n",
      "Recommended citation: Your Name, You. (2009). \"Paper Title Number 1.\" <i>Journal 1</i>. 1(1)."
     ]
    }
   ],
   "source": [
    "!cat ../_publications/2009-10-01-paper-title-number-1.md"
   ]
  },
  {
   "cell_type": "code",
   "execution_count": null,
   "metadata": {
    "collapsed": true,
    "deletable": true,
    "editable": true
   },
   "outputs": [],
   "source": []
  }
 ],
 "metadata": {
  "kernelspec": {
   "display_name": "3.9.4",
   "language": "python",
   "name": "python3"
  },
  "language_info": {
   "codemirror_mode": {
    "name": "ipython",
    "version": 3
   },
   "file_extension": ".py",
   "mimetype": "text/x-python",
   "name": "python",
   "nbconvert_exporter": "python",
   "pygments_lexer": "ipython3",
   "version": "3.9.4"
  }
 },
 "nbformat": 4,
 "nbformat_minor": 0
}
